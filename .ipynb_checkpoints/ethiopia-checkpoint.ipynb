{
 "cells": [
  {
   "cell_type": "markdown",
   "id": "254e7d9e-1a23-4b50-b15d-60fe6db35920",
   "metadata": {},
   "source": [
    "# Work Sample: Ethiopia, data viz examples\n",
    "## Purpose of this is to produce reproducible code for basic data viz "
   ]
  },
  {
   "cell_type": "markdown",
   "id": "7596f7ec-71f8-4efb-81cf-17a4a7bef7fd",
   "metadata": {
    "jp-MarkdownHeadingCollapsed": true,
    "tags": []
   },
   "source": [
    "# 1. Load packages"
   ]
  },
  {
   "cell_type": "code",
   "execution_count": 2,
   "id": "42fce2ce",
   "metadata": {},
   "outputs": [],
   "source": [
    "import pandas as pd\n",
    "import numpy as np\n",
    "import geopandas as gpd\n",
    "import matplotlib.pyplot as plt\n",
    "import numpy as np\n",
    "import seaborn as sns\n",
    "from geopandas import GeoDataFrame\n",
    "import imageio\n",
    "import os\n",
    "import matplotlib.ticker as ticker\n",
    "from matplotlib.dates import YearLocator, DateFormatter"
   ]
  },
  {
   "cell_type": "markdown",
   "id": "b99e2302-8d2e-4eed-950f-960aa15ce5db",
   "metadata": {
    "tags": []
   },
   "source": [
    "# 2. Load datasets"
   ]
  },
  {
   "cell_type": "code",
   "execution_count": 4,
   "id": "0afd27f4",
   "metadata": {
    "scrolled": true
   },
   "outputs": [],
   "source": [
    "acled = pd.read_csv('/Users/foroghakbari/Documents/GitHub/Example_code/acled_battle_data_month.csv',sep='\\t')"
   ]
  },
  {
   "cell_type": "code",
   "execution_count": 5,
   "id": "ad977f76",
   "metadata": {},
   "outputs": [],
   "source": [
    "df = acled[acled['iso3']=='ETH'] #ethiopia"
   ]
  },
  {
   "cell_type": "code",
   "execution_count": 7,
   "id": "410ec201",
   "metadata": {},
   "outputs": [
    {
     "name": "stderr",
     "output_type": "stream",
     "text": [
      "/var/folders/sf/7stnv88n2y36ft6t7494cr5w0000gn/T/ipykernel_7988/1361045128.py:1: SettingWithCopyWarning: \n",
      "A value is trying to be set on a copy of a slice from a DataFrame\n",
      "\n",
      "See the caveats in the documentation: https://pandas.pydata.org/pandas-docs/stable/user_guide/indexing.html#returning-a-view-versus-a-copy\n",
      "  df.drop('Unnamed: 0', axis=1, inplace=True)\n"
     ]
    }
   ],
   "source": [
    "df.drop('Unnamed: 0', axis=1, inplace=True)"
   ]
  },
  {
   "cell_type": "code",
   "execution_count": 8,
   "id": "0d0c6e8a-ef59-41cc-870c-a9727c5dcb6e",
   "metadata": {},
   "outputs": [],
   "source": [
    "gdf = gpd.read_file('/Users/foroghakbari/Downloads/icrc_test/eth_adm_csa_bofedb_2021_shp/eth_admbnda_adm1_csa_bofedb_2021.shp')"
   ]
  },
  {
   "cell_type": "code",
   "execution_count": null,
   "id": "354621c8-32c5-439a-9cf9-189f018af9ef",
   "metadata": {},
   "outputs": [],
   "source": [
    "fews_22 = gpd.read_file('/Users/foroghakbari/Documents/GitHub/Data-Viz-ACLED-updates/ET_202201/ET_202201_ML2.shp')\n",
    "#shapefile from famine early warning system: https://fews.net/fews-data/333?tid=26&field_data_portal_date_start%5Bvalue%5D%5Byear%5D=2022&field_data_portal_date_start%5Bvalue%5D%5Bmonth%5D=1&field_data_portal_date_end%5Bvalue%5D%5Byear%5D=2023&field_data_portal_date_end%5Bvalue%5D%5Bmonth%5D=1&page=1"
   ]
  },
  {
   "cell_type": "markdown",
   "id": "21f577a5-d90b-469b-adea-514b8ea44eef",
   "metadata": {
    "tags": []
   },
   "source": [
    "# 3. Data Viz"
   ]
  },
  {
   "cell_type": "markdown",
   "id": "68075460-c6bd-43bd-a4b3-ce262469e8e9",
   "metadata": {},
   "source": [
    "## 3a. data viz of maps, charts and barcharts"
   ]
  },
  {
   "cell_type": "code",
   "execution_count": null,
   "id": "71e96c69-6bc7-4795-92d3-d2a81f600bf3",
   "metadata": {},
   "outputs": [],
   "source": [
    "# Convert the 'event_date' column to a datetime object\n",
    "df['event_date'] = pd.to_datetime(df['event_date'])\n",
    "# Set the style to dark background\n",
    "plt.style.use('dark_background')\n",
    "# Filter the data to the years 2018-2022\n",
    "start_date = pd.to_datetime('2019-01-01')\n",
    "end_date = pd.to_datetime('2022-12-31')\n",
    "df = df[(df['event_date'] >= start_date) & (df['event_date'] <= end_date)]\n",
    "\n",
    "# Group the data by year and sum the fatalities column\n",
    "yearly_data = df.groupby(df['event_date'].dt.year).sum()\n",
    "\n",
    "# Set the 'event_date' column as the index\n",
    "df = df.set_index('event_date')\n",
    "\n",
    "# Resample the data by month and sum the fatalities column\n",
    "monthly_data = df.resample('M').sum()\n",
    "\n",
    "# Create the plot\n",
    "fig, ax = plt.subplots()\n",
    "line, = ax.plot([], [], lw=2, color='red')\n",
    "ax.set_xlim(monthly_data.index.min(), monthly_data.index.max())\n",
    "ax.set_ylim(0, monthly_data['fatalities'].max() + 100)\n",
    "ax.set_xlabel('Date')\n",
    "ax.set_ylabel('Fatalities')\n",
    "ax.set_title('Monthly Fatalities Count, 2019-2022')\n",
    "\n",
    "\n",
    "# Set the tick positions to be the first day of each year\n",
    "ax.set_xticks(pd.date_range(start='2019-01-01', end='2022-12-31', freq='YS'))\n",
    "\n",
    "# Rotate the tick labels for better readability\n",
    "plt.xticks(rotation=45)\n",
    "\n",
    "# Plot the data\n",
    "line.set_data(monthly_data.index, monthly_data['fatalities'])\n",
    "\n",
    "plt.gca().spines['top'].set_color('none')\n",
    "plt.gca().spines['right'].set_color('none')\n",
    "plt.gca().spines['bottom'].set_color('none')\n",
    "plt.gca().spines['left'].set_color('none')\n",
    "\n",
    "# Get the top three highest amount of fatalities\n",
    "top_3 = monthly_data.nlargest(3, 'fatalities')\n",
    "\n",
    "# Add text annotations for the top three\n",
    "for i, row in top_3.iterrows():\n",
    "    plt.annotate(f\"{row['fatalities']:.0f}\", xy=(i, row['fatalities']), xytext=(i, row['fatalities']+65),\n",
    "                 ha='center', va='center', fontsize=10, color='white', fontweight='bold')\n",
    "# Show the plot\n",
    "plt.show()\n"
   ]
  },
  {
   "cell_type": "code",
   "execution_count": null,
   "id": "57351a5e-6bf5-4eb8-b396-5775f1af9708",
   "metadata": {},
   "outputs": [],
   "source": [
    "df=df.reset_index()"
   ]
  },
  {
   "cell_type": "code",
   "execution_count": null,
   "id": "9c34df6e-7aa2-4971-8e68-7c368c1073b3",
   "metadata": {},
   "outputs": [],
   "source": [
    "# Filter the data to the years 2019-2022\n",
    "df = df[(df['event_date'].dt.year >= 2019) & (df['event_date'].dt.year <= 2022)]\n",
    "\n",
    "# Group the data by admin1 and sum the fatalities column\n",
    "admin1_data = df.groupby('admin1')['fatalities'].sum().reset_index()\n",
    "admin1_data= admin1_data.sort_values('fatalities', ascending=True)\n",
    "\n",
    "# Create a horizontal bar chart\n",
    "plt.barh(admin1_data['admin1'], admin1_data['fatalities'], color='red')\n",
    "\n",
    "# Set the chart title and axis labels\n",
    "plt.title('Ethiopia, 2019-2022')\n",
    "plt.xlabel('Fatalities')\n",
    "plt.ylabel('Admin 1')\n",
    "\n",
    "plt.gca().spines['top'].set_color('none')\n",
    "plt.gca().spines['right'].set_color('none')\n",
    "plt.gca().spines['bottom'].set_color('none')\n",
    "plt.gca().spines['left'].set_color('none')\n",
    "\n",
    "\n",
    "\n",
    "# Show the plot\n",
    "plt.show()"
   ]
  },
  {
   "cell_type": "code",
   "execution_count": null,
   "id": "ee00689c-5a60-4079-8c35-31d00f9e9da3",
   "metadata": {},
   "outputs": [],
   "source": [
    "# create a list of years to loop through\n",
    "years = [2019, 2020, 2021, 2022]\n",
    "\n",
    "# create a figure with a 2x2 grid of subplots\n",
    "fig, axs = plt.subplots(nrows=2, ncols=2, figsize=(15, 10))\n",
    "\n",
    "# loop through the years and create a map for each year in a subplot\n",
    "for i, year in enumerate(years):\n",
    "    # filter the data to only include the specified year\n",
    "    data = df[df['year'] == year]\n",
    "\n",
    "    # get the subplot location based on the index\n",
    "    row = i // 2\n",
    "    col = i % 2\n",
    "\n",
    "    # plot the shapefile on the subplot\n",
    "    axs[row, col].set_title('{}'.format(year))\n",
    "    gdf.plot(ax=axs[row, col], color='black', edgecolor='white')\n",
    "\n",
    "    # create a list of sizes based on the number of fatalities\n",
    "    size = np.zeros(data.shape[0])\n",
    "    size[(data['fatalities'] > 0) & (data['fatalities'] <= 10)] = 10\n",
    "    size[(data['fatalities'] > 10) & (data['fatalities'] <= 100)] = 100\n",
    "    size[(data['fatalities'] > 100) & (data['fatalities'] <= 250)] = 250\n",
    "    size[(data['fatalities'] > 250)] = 500\n",
    "\n",
    "    # create a scatter plot with the fatalities data on the subplot\n",
    "    sc = axs[row, col].scatter(data['longitude'], data['latitude'], edgecolors='red',facecolors='none',marker='o', s=data['fatalities']*1)\n",
    "    axs[row, col].axis('off')\n",
    "\n",
    "\n",
    "# create a legend for the bubble sizes\n",
    "sizes = [10, 100, 250, 500]\n",
    "labels = ['0-10', '10-100', '100-250', '250+'] \n",
    "    \n",
    "legend_elements = [plt.scatter([], [], s=s, edgecolors='red', facecolors='none', marker='o', label=l) for s, l in zip(sizes, labels)]\n",
    "legend_labels = ['Number of Fatalities by location**']\n",
    "axs[0, 0].legend(handles=legend_elements, loc='center', bbox_to_anchor=(0.5, 1.3), ncol=4, frameon=False)\n",
    "axs[0, 0].legend(handles=legend_elements, loc='center', bbox_to_anchor=(0.5, 1.3), ncol=4, frameon=False, fontsize=20)\n",
    "\n",
    "# add text to the legend\n",
    "for i, label in enumerate(legend_labels):\n",
    "    axs[0, 0].text((i+0.5)/4, 1.2, label, ha='center', va='top', transform=axs[0, 0].transAxes, fontsize=15)\n",
    "text = fig.text(0.50, 0.02, \n",
    "    'Data providers: ACLED * 01/19-12/22, visual: F Akbari', \n",
    "     horizontalalignment='center', wrap=True ) \n",
    "\n",
    "plt.savefig('/Users/foroghakbari/Documents/GitHub/Data-Viz-ACLED-updates/output/map_subplots.png')\n"
   ]
  },
  {
   "cell_type": "code",
   "execution_count": null,
   "id": "bbd11c76-450e-42c0-b915-6de8e109b26a",
   "metadata": {},
   "outputs": [],
   "source": [
    "# Create a 1x2 grid of subplots\n",
    "fig, axs = plt.subplots(1, 2, figsize=(15, 10))\n",
    "plt.style.use('dark_background')\n",
    "# Plot the first graph on the left subplot\n",
    "axs[0].plot(monthly_data.index, monthly_data['fatalities'], color='red')\n",
    "axs[0].set_xlim(monthly_data.index.min(), monthly_data.index.max())\n",
    "axs[0].set_ylim(0, monthly_data['fatalities'].max() + 100)\n",
    "axs[0].set_xlabel('Date')\n",
    "axs[0].set_ylabel('Fatalities')\n",
    "axs[0].set_title('Monthly Fatalities Count, 2019-2022')\n",
    "axs[0].set_xticks(pd.date_range(start='2019-01-01', end='2022-12-31', freq='YS'))\n",
    "axs[0].tick_params(axis='x', rotation=45)\n",
    "axs[0].spines['top'].set_color('none')\n",
    "axs[0].spines['right'].set_color('none')\n",
    "axs[0].spines['bottom'].set_color('none')\n",
    "axs[0].spines['left'].set_color('none')\n",
    "\n",
    "\n",
    "\n",
    "\n",
    "# Add annotations for the top three months\n",
    "top_3 = monthly_data.nlargest(3, 'fatalities')\n",
    "for i, row in top_3.iterrows():\n",
    "    axs[0].annotate(f\"{row['fatalities']:.0f}\", xy=(i, row['fatalities']), xytext=(i, row['fatalities']+65),\n",
    "                 ha='center', va='center', fontsize=10, color='white', fontweight='bold')\n",
    "\n",
    "# Plot the second graph on the right subplot\n",
    "axs[1].barh(admin1_data['admin1'], admin1_data['fatalities'], color='red')\n",
    "axs[1].set_title('By admin 1 level, 2019-2022')\n",
    "axs[1].set_xlabel('Fatalities')\n",
    "axs[1].set_ylabel('Admin 1')\n",
    "axs[1].spines['top'].set_color('none')\n",
    "axs[1].spines['right'].set_color('none')\n",
    "axs[1].spines['bottom'].set_color('none')\n",
    "axs[1].spines['left'].set_color('none')\n",
    "\n",
    "\n",
    "fig.suptitle('ETHIOPIA', x=0.12, y=0.95, ha='right', va='top', fontsize=25, fontweight='bold')\n",
    "\n",
    "# Adjust the spacing between the subplots\n",
    "plt.subplots_adjust(wspace=0.7)\n",
    "# add text to the top-right corner\n",
    "\n",
    "plt.savefig('/Users/foroghakbari/Documents/GitHub/Data-Viz-ACLED-updates/output/charts_1.png')\n"
   ]
  },
  {
   "cell_type": "code",
   "execution_count": null,
   "id": "ba6e678b-039a-4661-ad90-ee993dd6a4d4",
   "metadata": {},
   "outputs": [],
   "source": [
    "from PIL import Image\n",
    "\n",
    "# open the two images\n",
    "img1 = Image.open('/Users/foroghakbari/Documents/GitHub/Data-Viz-ACLED-updates/output/charts_1.png')\n",
    "img2 = Image.open('/Users/foroghakbari/Documents/GitHub/Data-Viz-ACLED-updates/output/map_subplots.png')\n",
    "\n",
    "# get the size of the images\n",
    "width, height1 = img1.size\n",
    "_, height2 = img2.size\n",
    "\n",
    "# create a new image with the combined height\n",
    "combined_img = Image.new('RGB', (width, height1 + height2))\n",
    "\n",
    "# paste the first image at the top of the new image\n",
    "combined_img.paste(img1, (0, 0))\n",
    "\n",
    "# paste the second image below the first image\n",
    "combined_img.paste(img2, (0, height1))\n",
    "\n",
    "# save the combined image as a new PNG file\n",
    "combined_img.save('/Users/foroghakbari/Documents/GitHub/Data-Viz-ACLED-updates/output/Fatalities_dataviz.png')"
   ]
  },
  {
   "cell_type": "code",
   "execution_count": null,
   "id": "74b3a5a0-42b9-4541-91dd-37a87f4b0501",
   "metadata": {},
   "outputs": [],
   "source": [
    "\n",
    "img = plt.imread('/Users/foroghakbari/Documents/GitHub/Data-Viz-ACLED-updates/output/Fatalities_dataviz.png')\n",
    "\n",
    "# Create a new figure and axis without axis\n",
    "fig, ax = plt.subplots(figsize=(15, 15), dpi=300)\n",
    "ax.axis('off')\n",
    "\n",
    "# Display the PNG image\n",
    "ax.imshow(img)\n",
    "\n",
    "# Show the plot\n",
    "plt.show()"
   ]
  },
  {
   "cell_type": "markdown",
   "id": "9998af96-4d99-47ee-965c-97fa620f122c",
   "metadata": {},
   "source": [
    "## 3b. creating a gif of map"
   ]
  },
  {
   "cell_type": "code",
   "execution_count": null,
   "id": "4c5898ae-bf36-4365-9e0f-fc4b2456561a",
   "metadata": {
    "tags": []
   },
   "outputs": [],
   "source": [
    "# create a list of years to loop through\n",
    "years = [2019, 2020, 2021, 2022]\n",
    "\n",
    "# loop through the years and create a map for each year\n",
    "for year in years:\n",
    "    # filter the data to only include the specified year\n",
    "    data = df[df['year'] == year]\n",
    "\n",
    "    # create a figure and axis\n",
    "    fig, ax = plt.subplots(figsize=(10, 10))\n",
    "\n",
    "    # plot the shapefile\n",
    "    gdf.plot(ax=ax, color='black', edgecolor='white')\n",
    "\n",
    "    # create a list of sizes based on the number of fatalities\n",
    "    size = np.zeros(data.shape[0])\n",
    "    size[(data['fatalities'] > 0) & (data['fatalities'] <= 10)] = 10\n",
    "    size[(data['fatalities'] > 10) & (data['fatalities'] <= 100)] = 100\n",
    "    size[(data['fatalities'] > 100) & (data['fatalities'] <= 250)] = 250\n",
    "    size[(data['fatalities'] > 250)] = 500\n",
    "\n",
    "    # create a scatter plot with the fatalities data\n",
    "    sc = ax.scatter(data['longitude'], data['latitude'], edgecolors='red',facecolors='none',marker='o', s=data['fatalities']*1)\n",
    "\n",
    "    # add a colorbar and title to the plot\n",
    "    plt.title('Ethiopia - {}'.format(year))\n",
    "    #plt.colorbar(sc)\n",
    "\n",
    "    # add a legend for the different bubble sizes\n",
    "    sizes = [10, 100, 250, 500]\n",
    "    labels = ['0-10', '10-100', '100-250', '250+']\n",
    "    for size, label in zip(sizes, labels):\n",
    "        ax.scatter([], [], facecolors='none', edgecolors='red', alpha=0.5, s=size,\n",
    "                   label=label)\n",
    "    ax.legend(scatterpoints=1, frameon=False, labelspacing=1, title='Fatalities by location*')\n",
    "    plt.axis('off')\n",
    "    text = fig.text(0.50, 0.02, \n",
    "    'Data providers: ACLED * 01/19-12/22, visual: F Akbari', \n",
    "     horizontalalignment='center', wrap=True ) \n",
    "\n",
    "    # save the figure as a PNG file\n",
    "    plt.savefig('/Users/foroghakbari/Documents/GitHub/Data-Viz-ACLED-updates/output/maps/map_{}.png'.format(year))"
   ]
  },
  {
   "cell_type": "code",
   "execution_count": null,
   "id": "b55b899c-ff3f-44bf-83fa-7d347b1f46ae",
   "metadata": {},
   "outputs": [],
   "source": [
    "# save as gif\n",
    "png_dir = '/Users/foroghakbari/Documents/GitHub/Data-Viz-ACLED-updates/output/maps'\n",
    "images = []\n",
    "for file_name in sorted(os.listdir(png_dir)):\n",
    "    if file_name.endswith('.png'):\n",
    "        file_path = os.path.join(png_dir, file_name)\n",
    "        images.append(imageio.imread(file_path))\n",
    "\n",
    "# Make it pause at the end so that the viewers can ponder\n",
    "for _ in range(5):\n",
    "    images.append(imageio.imread(file_path))\n",
    "\n",
    "imageio.mimsave('/Users/foroghakbari/Documents/GitHub/Data-Viz-ACLED-updates/output/Fatalities.gif', images, duration=0.7)"
   ]
  },
  {
   "cell_type": "code",
   "execution_count": null,
   "id": "f0c48f61-c1e1-4c5d-94b2-c798f0cb1b15",
   "metadata": {},
   "outputs": [],
   "source": [
    "#load gif \n",
    "from IPython.display import Image\n",
    "from IPython.display import display\n",
    "\n",
    "# Load the GIF image\n",
    "gif_path = '/Users/foroghakbari/Documents/GitHub/Data-Viz-ACLED-updates/output/Fatalities.gif'\n",
    "\n",
    "# Display the GIF image\n",
    "with open(gif_path, 'rb') as f:\n",
    "    display(Image(data=f.read(), format='gif'))"
   ]
  },
  {
   "cell_type": "markdown",
   "id": "1768ae31-0ecf-49ca-a659-f0fd3fcbe80c",
   "metadata": {
    "jp-MarkdownHeadingCollapsed": true,
    "tags": []
   },
   "source": [
    "## 3c. Food insecurity and conflict data "
   ]
  },
  {
   "cell_type": "code",
   "execution_count": null,
   "id": "13f139ec-47f7-440d-b4a3-921d38c5c175",
   "metadata": {
    "tags": []
   },
   "outputs": [],
   "source": [
    "fews_22['report_mon']"
   ]
  },
  {
   "cell_type": "code",
   "execution_count": null,
   "id": "5a9b8127-8f75-4926-8bdf-e6d055bb26b7",
   "metadata": {},
   "outputs": [],
   "source": [
    "fews_ad1 = fews_22.drop('ADMIN2',axis=1)"
   ]
  },
  {
   "cell_type": "code",
   "execution_count": null,
   "id": "3069d7e1-9f0f-474a-98f6-bd589a1eb15f",
   "metadata": {},
   "outputs": [],
   "source": [
    "fews_ad1 = fews_22.dissolve(by='ADMIN1', aggfunc='mean')"
   ]
  },
  {
   "cell_type": "code",
   "execution_count": null,
   "id": "4a941ac1-4da7-4e9e-a72d-d9eee76fabd9",
   "metadata": {},
   "outputs": [],
   "source": [
    "fews_ad1"
   ]
  },
  {
   "cell_type": "code",
   "execution_count": null,
   "id": "743716b8-48a3-44a9-9db2-cf45f6e57db0",
   "metadata": {},
   "outputs": [],
   "source": [
    "fews_ad1['ML2'] = fews_ad1['ML2'].round(decimals=0)"
   ]
  },
  {
   "cell_type": "code",
   "execution_count": null,
   "id": "6814b794-049f-43aa-bad9-0471760e998c",
   "metadata": {},
   "outputs": [],
   "source": [
    "# define the color map based on category score\n",
    "colors = {1: 'light green',\n",
    "          2: 'yellow',\n",
    "          3: 'orange',\n",
    "          4: 'red',\n",
    "          5: 'darkred'}\n",
    "\n",
    "fews_ad1['color'] = fews_ad1['ML2'].apply(lambda x: colors[x])"
   ]
  },
  {
   "cell_type": "code",
   "execution_count": null,
   "id": "576e4655-c2dd-484c-8ce1-4bc2bf2b9c9b",
   "metadata": {},
   "outputs": [],
   "source": [
    "fews_ad1"
   ]
  },
  {
   "cell_type": "code",
   "execution_count": null,
   "id": "118b9b5f-fa5a-4cdc-8d25-c00f4cd0fb3d",
   "metadata": {},
   "outputs": [],
   "source": [
    "fews_ad1=fews_ad1.reset_index()"
   ]
  },
  {
   "cell_type": "code",
   "execution_count": null,
   "id": "938be726-ef2b-4eda-a26b-90a335e038dd",
   "metadata": {},
   "outputs": [],
   "source": [
    "import matplotlib.colors as colors"
   ]
  },
  {
   "cell_type": "code",
   "execution_count": null,
   "id": "8a2e5738-b934-4bf0-8141-4afd109ef151",
   "metadata": {},
   "outputs": [],
   "source": [
    "# define the colors for the rating values\n",
    "colors_list=[ 'lightgreen','yellow', 'orange', 'red', 'darkred']\n",
    "\n",
    "#hex_values = ['#FFFF99', '#FFFF00', '#FFA500', '#FF0000', '#8B0000']\n",
    "\n",
    "# Convert the hex values to a normalized range of 0-1\n",
    "#hex_normalized = [colors.hex2color(hex_val) for hex_val in hex_values]\n",
    "\n",
    "# Create the discrete color map with both named colors and hex values\n",
    "cmap = colors.ListedColormap(colors_list)\n",
    "\n",
    "\n",
    "bounds = [1, 2, 3, 4, 5]\n",
    "norm = colors.BoundaryNorm(bounds, cmap.N)\n",
    "\n",
    "\n",
    "# Define the labels for the color map\n",
    "labels = ['Minimal', 'Stressed', 'Crisis', 'Emergency', 'Famine']\n",
    "\n",
    "\n",
    "\n",
    "# plot the administrative area map"
   ]
  },
  {
   "cell_type": "code",
   "execution_count": null,
   "id": "aa3b8eaa-6575-4454-abbf-6c4cb8992a89",
   "metadata": {},
   "outputs": [],
   "source": [
    "import matplotlib.colors as colors\n",
    "import matplotlib.patches as mpatches\n"
   ]
  },
  {
   "cell_type": "code",
   "execution_count": null,
   "id": "4ef55b35-1024-4661-92bc-ce970b6d821a",
   "metadata": {},
   "outputs": [],
   "source": [
    "import matplotlib.pyplot as plt\n",
    "print(plt.style.available)"
   ]
  },
  {
   "cell_type": "code",
   "execution_count": null,
   "id": "ad6048af-7aed-43e6-b777-63c688559ddf",
   "metadata": {},
   "outputs": [],
   "source": [
    "plt.style.use('default')"
   ]
  },
  {
   "cell_type": "code",
   "execution_count": null,
   "id": "0b8c09aa-59d2-48c0-8c1a-ca2577010627",
   "metadata": {},
   "outputs": [],
   "source": [
    "# create a figure and axis\n",
    "fig, ax = plt.subplots(figsize=(10, 10))\n",
    "\n",
    "# plot the administrative area map\n",
    "vmin, vmax = fews_ad1['ML2'].min(), fews_ad1['ML2'].max()\n",
    "fews_ad1.plot(column='ML2', cmap=cmap,norm=norm,linewidth=0.8, ax=ax, edgecolor='0.8', vmin=vmin, vmax=vmax)\n",
    "\n",
    "# add labels to the map\n",
    "#for idx, row in fews_ad1.iterrows():\n",
    "    #plt.annotate(text=row['ADMIN1'], xy=row['geometry'].centroid.coords[0], horizontalalignment='center', fontsize=8)\n",
    "\n",
    "# plot the fatalities map for each year\n",
    "years = [2022]\n",
    "for year in years:\n",
    "    # filter the data to only include the specified year\n",
    "    data = df[df['year'] == year]\n",
    "\n",
    "    # create a list of sizes based on the number of fatalities\n",
    "    size = np.zeros(data.shape[0])\n",
    "    size[(data['fatalities'] > 0) & (data['fatalities'] <= 10)] = 10\n",
    "    size[(data['fatalities'] > 10) & (data['fatalities'] <= 100)] = 100\n",
    "    size[(data['fatalities'] > 100) & (data['fatalities'] <= 250)] = 250\n",
    "    size[(data['fatalities'] > 250)] = 500\n",
    "\n",
    "    # create a scatter plot with the fatalities data\n",
    "    sc = ax.scatter(data['longitude'], data['latitude'], edgecolors='blue',facecolors='none',marker='o', s=data['fatalities']*1)\n",
    "\n",
    "    # add a legend for the different bubble sizes\n",
    "    sizes = [10, 100, 250, 500]\n",
    "    labels = ['0-10', '10-100', '100-250', '250+']\n",
    "    for size, label in zip(sizes, labels):\n",
    "        ax.scatter([], [], facecolors='none', edgecolors='blue', alpha=0.5, s=size,\n",
    "                   label=label)\n",
    "\n",
    "\n",
    "# add a legend for the fatalities data\n",
    "first_legend=plt.legend(scatterpoints=1, frameon=False, labelspacing=1, title='Fatalities by location*', fontsize=15)\n",
    "# Add legend color patches for each color in the color map\n",
    "ax.add_artist(first_legend)\n",
    "\n",
    "legend_patches = [mpatches.Patch(color=color, label=label) for color, label in zip(colors_list, ['Minimal', 'Stressed', 'Crisis', 'Emergency', 'Famine'])]\n",
    "second_legend=plt.legend(handles=legend_patches, frameon=False, loc='lower left',mode='expand',ncol=5,bbox_to_anchor=(0.0, -0.1, 1.0, 0.1), title='IPC Acute food insecurity phase**')\n",
    "ax.add_artist(second_legend)\n",
    "\n",
    "# Add a title to the plot\n",
    "ax.set_title('Ethiopia', fontsize=30,loc='left')\n",
    "\n",
    "# Remove the axis spines and ticks\n",
    "ax.axis('off')\n",
    "\n",
    "# add a text annotation\n",
    "text = fig.text(0.3, 0.02, 'Data providers: ACLED*(01/22 to 12/22) and FEWS** (02/22 to 05/22), visual: F Akbari', horizontalalignment='center', wrap=True, fontsize=8)\n",
    "# Add the legend for the color patches as a separate artist on the same axis\n",
    "\n",
    "\n",
    "\n",
    "# save the figure as a PNG file\n",
    "plt.savefig('/Users/foroghakbari/Documents/GitHub/Data-Viz-ACLED-updates/output/map_combined.png')\n"
   ]
  }
 ],
 "metadata": {
  "kernelspec": {
   "display_name": "Python 3 (ipykernel)",
   "language": "python",
   "name": "python3"
  },
  "language_info": {
   "codemirror_mode": {
    "name": "ipython",
    "version": 3
   },
   "file_extension": ".py",
   "mimetype": "text/x-python",
   "name": "python",
   "nbconvert_exporter": "python",
   "pygments_lexer": "ipython3",
   "version": "3.9.13"
  }
 },
 "nbformat": 4,
 "nbformat_minor": 5
}
