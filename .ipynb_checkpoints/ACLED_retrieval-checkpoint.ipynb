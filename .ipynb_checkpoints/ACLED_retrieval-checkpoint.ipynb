{
 "cells": [
  {
   "cell_type": "code",
   "execution_count": null,
   "id": "341740c8-b421-41ad-a87c-f57923890d46",
   "metadata": {},
   "outputs": [],
   "source": [
    "#ACLED database updates "
   ]
  },
  {
   "cell_type": "code",
   "execution_count": 1,
   "id": "6a6d8435-1215-40e9-b269-c4813a67546b",
   "metadata": {},
   "outputs": [],
   "source": [
    "import requests"
   ]
  },
  {
   "cell_type": "code",
   "execution_count": 2,
   "id": "3f2c45ae-de6e-4f2c-9944-4b5b43443152",
   "metadata": {},
   "outputs": [],
   "source": [
    "url = 'https://api.acleddata.com/acled/read/?key=S6NOuiTrMBpSNt3THG6G&email=akbariforogh66@gmail.com'"
   ]
  },
  {
   "cell_type": "code",
   "execution_count": 3,
   "id": "30994bb6-0ddf-4fae-82d7-fbc28add24f6",
   "metadata": {
    "tags": []
   },
   "outputs": [],
   "source": [
    "querystring = {\"terms\":\"accept\",\n",
    "               \"event_date\":\"2021-01-27,2023-01-27\",\n",
    "               \"limit\":\"1000000000\",\n",
    "               \"event_type\":\"Battles\"}\n",
    "headers = {\n",
    "    'accept': \"application/json\",\n",
    "    'content-type': \"application/json\"\n",
    "    }\n",
    "\n",
    "response = requests.request(\"GET\", url, headers=headers, params=querystring)\n",
    "\n",
    "if response.status_code == 200:\n",
    "    data = response.json()\n",
    "    # You can access the data using data['data']\n",
    "else:\n",
    "    print(\"Request failed with status code:\", response.status_code)"
   ]
  },
  {
   "cell_type": "code",
   "execution_count": 6,
   "id": "ea13e4cb-6c12-4765-97a9-3f3f6f62d876",
   "metadata": {},
   "outputs": [
    {
     "data": {
      "text/plain": [
       "{'status': 403,\n",
       " 'success': False,\n",
       " 'count': 0,\n",
       " 'error': {'status': 403,\n",
       "  'message': 'You\\xa0have\\xa0reached\\xa0your\\xa0download\\xa0limit\\xa0for\\xa0the\\xa0year. Please note that download limits apply collectively to all users affiliated with the same organization. To\\xa0download\\xa0more ACLED data,\\xa0you\\xa0can either wait until\\xa0the\\xa0start of\\xa0your\\xa0yearly cycle (one\\xa0year\\xa0from\\xa0the\\xa0date\\xa0you\\xa0registered) or reach out to\\xa0the\\xa0ACLED Access team (access@acleddata.com) to discuss other options.'}}"
      ]
     },
     "execution_count": 6,
     "metadata": {},
     "output_type": "execute_result"
    }
   ],
   "source": [
    "data"
   ]
  },
  {
   "cell_type": "code",
   "execution_count": 4,
   "id": "978ca3dc-067b-45fe-8ef7-c85d5135091f",
   "metadata": {},
   "outputs": [],
   "source": [
    "import pandas as pd"
   ]
  },
  {
   "cell_type": "code",
   "execution_count": 5,
   "id": "54b88e15-c260-4f36-b9bd-8ba534edf7c8",
   "metadata": {},
   "outputs": [
    {
     "ename": "KeyError",
     "evalue": "'data'",
     "output_type": "error",
     "traceback": [
      "\u001b[0;31m---------------------------------------------------------------------------\u001b[0m",
      "\u001b[0;31mKeyError\u001b[0m                                  Traceback (most recent call last)",
      "\u001b[0;32m/var/folders/sf/7stnv88n2y36ft6t7494cr5w0000gn/T/ipykernel_6466/962151889.py\u001b[0m in \u001b[0;36m<module>\u001b[0;34m\u001b[0m\n\u001b[0;32m----> 1\u001b[0;31m \u001b[0mdf\u001b[0m \u001b[0;34m=\u001b[0m \u001b[0mpd\u001b[0m\u001b[0;34m.\u001b[0m\u001b[0mDataFrame\u001b[0m\u001b[0;34m(\u001b[0m\u001b[0mdata\u001b[0m\u001b[0;34m[\u001b[0m\u001b[0;34m'data'\u001b[0m\u001b[0;34m]\u001b[0m\u001b[0;34m)\u001b[0m\u001b[0;34m\u001b[0m\u001b[0;34m\u001b[0m\u001b[0m\n\u001b[0m\u001b[1;32m      2\u001b[0m \u001b[0mdf\u001b[0m\u001b[0;34m.\u001b[0m\u001b[0mto_csv\u001b[0m\u001b[0;34m(\u001b[0m\u001b[0;34m'data.csv'\u001b[0m\u001b[0;34m,\u001b[0m \u001b[0mindex\u001b[0m\u001b[0;34m=\u001b[0m\u001b[0;32mFalse\u001b[0m\u001b[0;34m)\u001b[0m\u001b[0;34m\u001b[0m\u001b[0;34m\u001b[0m\u001b[0m\n",
      "\u001b[0;31mKeyError\u001b[0m: 'data'"
     ]
    }
   ],
   "source": [
    "df = pd.DataFrame(data['data'])\n",
    "df.to_csv('data.csv', index=False)"
   ]
  },
  {
   "cell_type": "code",
   "execution_count": null,
   "id": "ae0340eb-07e1-4ad1-864e-bf41cfb84772",
   "metadata": {},
   "outputs": [],
   "source": [
    "df.to_csv(\"recent_battles_ACLED.csv\", index=False)"
   ]
  }
 ],
 "metadata": {
  "kernelspec": {
   "display_name": "Python 3 (ipykernel)",
   "language": "python",
   "name": "python3"
  },
  "language_info": {
   "codemirror_mode": {
    "name": "ipython",
    "version": 3
   },
   "file_extension": ".py",
   "mimetype": "text/x-python",
   "name": "python",
   "nbconvert_exporter": "python",
   "pygments_lexer": "ipython3",
   "version": "3.9.13"
  }
 },
 "nbformat": 4,
 "nbformat_minor": 5
}
